{
 "cells": [
  {
   "cell_type": "code",
   "execution_count": 1,
   "metadata": {},
   "outputs": [],
   "source": [
    "import numpy as np\n",
    "import pandas as pd\n",
    "import seaborn as sns\n",
    "import statsmodels.api as sm\n",
    "from statsmodels.formula.api import ols"
   ]
  },
  {
   "cell_type": "markdown",
   "metadata": {},
   "source": [
    "### Description of data: \n",
    "Every participant has one file 1d array with 400 rows (each corresponding to a node) for each of the following conditions: \n",
    "<ul>\n",
    "    <li>C1 = low interference, easy search</li>\n",
    "    <li>C2 = low interference, hard search</li>\n",
    "    <li>C3 = high interference, easy search</li>\n",
    "    <li>C4 = high interference, hard search</li>\n",
    "</ul>"
   ]
  },
  {
   "cell_type": "code",
   "execution_count": 5,
   "metadata": {},
   "outputs": [
    {
     "name": "stdout",
     "output_type": "stream",
     "text": [
      "/Users/RaulAlvarez\n"
     ]
    }
   ],
   "source": [
    "from os.path import expanduser\n",
    "home = expanduser(\"~\")\n",
    "print(home)"
   ]
  },
  {
   "cell_type": "code",
   "execution_count": 7,
   "metadata": {},
   "outputs": [
    {
     "ename": "FileNotFoundError",
     "evalue": "[Errno 2] No such file or directory: '.../Documents/DistractWM/sub-102/graph_metrics/q_cond1_space.npy'",
     "output_type": "error",
     "traceback": [
      "\u001b[0;31m---------------------------------------------------------------------------\u001b[0m",
      "\u001b[0;31mFileNotFoundError\u001b[0m                         Traceback (most recent call last)",
      "\u001b[0;32m<ipython-input-7-3e12cc70120f>\u001b[0m in \u001b[0;36m<module>\u001b[0;34m\u001b[0m\n\u001b[1;32m     26\u001b[0m \u001b[0;34m\u001b[0m\u001b[0m\n\u001b[1;32m     27\u001b[0m         \u001b[0;31m# Loading data\u001b[0m\u001b[0;34m\u001b[0m\u001b[0;34m\u001b[0m\u001b[0;34m\u001b[0m\u001b[0m\n\u001b[0;32m---> 28\u001b[0;31m         \u001b[0mc1\u001b[0m \u001b[0;34m=\u001b[0m \u001b[0mnp\u001b[0m\u001b[0;34m.\u001b[0m\u001b[0mload\u001b[0m\u001b[0;34m(\u001b[0m\u001b[0mfull_path1\u001b[0m\u001b[0;34m)\u001b[0m\u001b[0;34m\u001b[0m\u001b[0;34m\u001b[0m\u001b[0m\n\u001b[0m\u001b[1;32m     29\u001b[0m         \u001b[0mc2\u001b[0m \u001b[0;34m=\u001b[0m \u001b[0mnp\u001b[0m\u001b[0;34m.\u001b[0m\u001b[0mload\u001b[0m\u001b[0;34m(\u001b[0m\u001b[0mfull_path2\u001b[0m\u001b[0;34m)\u001b[0m\u001b[0;34m\u001b[0m\u001b[0;34m\u001b[0m\u001b[0m\n\u001b[1;32m     30\u001b[0m         \u001b[0mc3\u001b[0m \u001b[0;34m=\u001b[0m \u001b[0mnp\u001b[0m\u001b[0;34m.\u001b[0m\u001b[0mload\u001b[0m\u001b[0;34m(\u001b[0m\u001b[0mfull_path3\u001b[0m\u001b[0;34m)\u001b[0m\u001b[0;34m\u001b[0m\u001b[0;34m\u001b[0m\u001b[0m\n",
      "\u001b[0;32m~/opt/anaconda3/lib/python3.8/site-packages/numpy/lib/npyio.py\u001b[0m in \u001b[0;36mload\u001b[0;34m(file, mmap_mode, allow_pickle, fix_imports, encoding)\u001b[0m\n\u001b[1;32m    426\u001b[0m         \u001b[0mown_fid\u001b[0m \u001b[0;34m=\u001b[0m \u001b[0;32mFalse\u001b[0m\u001b[0;34m\u001b[0m\u001b[0;34m\u001b[0m\u001b[0m\n\u001b[1;32m    427\u001b[0m     \u001b[0;32melse\u001b[0m\u001b[0;34m:\u001b[0m\u001b[0;34m\u001b[0m\u001b[0;34m\u001b[0m\u001b[0m\n\u001b[0;32m--> 428\u001b[0;31m         \u001b[0mfid\u001b[0m \u001b[0;34m=\u001b[0m \u001b[0mopen\u001b[0m\u001b[0;34m(\u001b[0m\u001b[0mos_fspath\u001b[0m\u001b[0;34m(\u001b[0m\u001b[0mfile\u001b[0m\u001b[0;34m)\u001b[0m\u001b[0;34m,\u001b[0m \u001b[0;34m\"rb\"\u001b[0m\u001b[0;34m)\u001b[0m\u001b[0;34m\u001b[0m\u001b[0;34m\u001b[0m\u001b[0m\n\u001b[0m\u001b[1;32m    429\u001b[0m         \u001b[0mown_fid\u001b[0m \u001b[0;34m=\u001b[0m \u001b[0;32mTrue\u001b[0m\u001b[0;34m\u001b[0m\u001b[0;34m\u001b[0m\u001b[0m\n\u001b[1;32m    430\u001b[0m \u001b[0;34m\u001b[0m\u001b[0m\n",
      "\u001b[0;31mFileNotFoundError\u001b[0m: [Errno 2] No such file or directory: '.../Documents/DistractWM/sub-102/graph_metrics/q_cond1_space.npy'"
     ]
    }
   ],
   "source": [
    "# Paths to access files\n",
    "home_dir = \".../Documents/DistractWM/\" #/Users/RaulAlvarez/Documents/\n",
    "c1_path = \"/graph_metrics/q_cond1_space.npy\"\n",
    "c2_path = \"/graph_metrics/q_cond2_space.npy\"\n",
    "c3_path = \"/graph_metrics/q_cond3_space.npy\"\n",
    "c4_path = \"/graph_metrics/q_cond4_space.npy\"\n",
    "\n",
    "# ...\n",
    "idx = 31 #102-132, total 27 participants (missing 111, 113, 127 and 128)\n",
    "\n",
    "# Creat psudo-empty dataframe\n",
    "df = pd.DataFrame(columns=['Interference', 'Att_Demand', 'Q'])\n",
    "\n",
    "for x in range(idx): \n",
    "    \n",
    "    name = 'sub-'\n",
    "    num = 102 + x\n",
    "    \n",
    "    if(not((num == 111) or (num == 113) or (num == 127) or (num == 128))):\n",
    "        \n",
    "        name = name + str(num)\n",
    "        full_path1 = home_dir + name + c1_path\n",
    "        full_path2 = home_dir + name + c2_path\n",
    "        full_path3 = home_dir + name + c3_path\n",
    "        full_path4 = home_dir + name + c4_path\n",
    "        \n",
    "        # Loading data     \n",
    "        c1 = np.load(full_path1) \n",
    "        c2 = np.load(full_path2) \n",
    "        c3 = np.load(full_path3) \n",
    "        c4 = np.load(full_path4) \n",
    "        \n",
    "        # Interference labels \n",
    "        I1 = np.repeat(['low'], len(c1))\n",
    "        I2 = np.repeat(['low'], len(c2))\n",
    "        I3 = np.repeat(['high'], len(c3))\n",
    "        I4 = np.repeat(['high'], len(c4))\n",
    "        \n",
    "        # Attentional Demand labels\n",
    "        AD1 = np.repeat(['easy'], len(c1))\n",
    "        AD2 = np.repeat(['hard'], len(c2))\n",
    "        AD3 = np.repeat(['easy'], len(c3))\n",
    "        AD4 = np.repeat(['hard'], len(c4))\n",
    "    \n",
    "        # Putting in dataframe format\n",
    "        new_c1 = pd.DataFrame(data={'Interference': I1, 'Att_Demand': AD1, 'Q': c1}, index=range(len(c1)))\n",
    "        new_c2 = pd.DataFrame(data={'Interference': I2, 'Att_Demand': AD2, 'Q': c2}, index=range(len(c2)))\n",
    "        new_c3 = pd.DataFrame(data={'Interference': I3, 'Att_Demand': AD3, 'Q': c3}, index=range(len(c3)))\n",
    "        new_c4 = pd.DataFrame(data={'Interference': I4, 'Att_Demand': AD4, 'Q': c4}, index=range(len(c4)))\n",
    "        \n",
    "        # Appending data to df\n",
    "        df = df.append(new_c1, ignore_index = True)\n",
    "        df = df.append(new_c2, ignore_index = True)\n",
    "        df = df.append(new_c3, ignore_index = True)\n",
    "        df = df.append(new_c4, ignore_index = True)\n",
    "\n",
    "        \n",
    "df.to_csv('GitHub/Summer_2021_fMRI/Formated_for_ANOVA.csv', sep='\\t') \n",
    "df.head(15) # shape (43200, 3)"
   ]
  },
  {
   "cell_type": "code",
   "execution_count": null,
   "metadata": {},
   "outputs": [],
   "source": [
    "# Visualizing data \n",
    "\n",
    "ax = sns.boxplot(x=\"Att_Demand\", y=\"Q\", hue=\"Interference\",\n",
    "                 data=df)"
   ]
  },
  {
   "cell_type": "markdown",
   "metadata": {},
   "source": [
    "##### Perform two-way ANOVA w/ interaction"
   ]
  },
  {
   "cell_type": "code",
   "execution_count": null,
   "metadata": {},
   "outputs": [],
   "source": [
    "model = ols('Q ~ C(Att_Demand) + C(Interference) + C(Att_Demand):C(Interference)', data=corrected_q).fit()\n",
    "sm.stats.anova_lm(model, typ=2)\n"
   ]
  },
  {
   "cell_type": "markdown",
   "metadata": {},
   "source": [
    "##### Perform two-way ANOVA without interaction"
   ]
  },
  {
   "cell_type": "code",
   "execution_count": null,
   "metadata": {},
   "outputs": [],
   "source": [
    "model = ols('Q ~ C(Att_Demand) + C(Interference)', data=corrected_q).fit()\n",
    "sm.stats.anova_lm(model, typ=2)\n"
   ]
  },
  {
   "cell_type": "markdown",
   "metadata": {},
   "source": [
    "# Same analysis but looking only at the first 10 rows/nodes"
   ]
  },
  {
   "cell_type": "code",
   "execution_count": null,
   "metadata": {},
   "outputs": [],
   "source": [
    "# Paths to access files\n",
    "home_dir = \"DistractWM/\"\n",
    "c1_path = \"/graph_metrics/q_cond1_space.npy\"\n",
    "c2_path = \"/graph_metrics/q_cond2_space.npy\"\n",
    "c3_path = \"/graph_metrics/q_cond3_space.npy\"\n",
    "c4_path = \"/graph_metrics/q_cond4_space.npy\"\n",
    "\n",
    "# ...\n",
    "idx = 31 #102-132, total 27 participants (missing 111, 113, 127 and 128)\n",
    "\n",
    "# Creat psudo-empty dataframe\n",
    "df = pd.DataFrame(columns=['Interference', 'Att_Demand', 'Q'])\n",
    "\n",
    "for x in range(idx): \n",
    "    \n",
    "    name = 'sub-'\n",
    "    num = 102 + x\n",
    "    \n",
    "    if(not((num == 111) or (num == 113) or (num == 127) or (num == 128))):\n",
    "        \n",
    "        name = name + str(num)\n",
    "        full_path1 = home_dir + name + c1_path\n",
    "        full_path2 = home_dir + name + c2_path\n",
    "        full_path3 = home_dir + name + c3_path\n",
    "        full_path4 = home_dir + name + c4_path\n",
    "        \n",
    "        # Loading data     \n",
    "        c1 = np.load(full_path1) \n",
    "        c2 = np.load(full_path2) \n",
    "        c3 = np.load(full_path3) \n",
    "        c4 = np.load(full_path4) \n",
    "        \n",
    "        c1 = c1[:11]\n",
    "        c2 = c2[:11]\n",
    "        c3 = c3[:11]\n",
    "        c4 = c4[:11]\n",
    "        \n",
    "        # Interference labels \n",
    "        I1 = np.repeat(['low'], len(c1))\n",
    "        I2 = np.repeat(['low'], len(c2))\n",
    "        I3 = np.repeat(['high'], len(c3))\n",
    "        I4 = np.repeat(['high'], len(c4))\n",
    "        \n",
    "        # Attentional Demand labels\n",
    "        AD1 = np.repeat(['easy'], len(c1))\n",
    "        AD2 = np.repeat(['hard'], len(c2))\n",
    "        AD3 = np.repeat(['easy'], len(c3))\n",
    "        AD4 = np.repeat(['hard'], len(c4))\n",
    "    \n",
    "        # Putting in dataframe format\n",
    "        new_c1 = pd.DataFrame(data={'Interference': I1, 'Att_Demand': AD1, 'Q': c1}, index=range(len(c1)))\n",
    "        new_c2 = pd.DataFrame(data={'Interference': I2, 'Att_Demand': AD2, 'Q': c2}, index=range(len(c2)))\n",
    "        new_c3 = pd.DataFrame(data={'Interference': I3, 'Att_Demand': AD3, 'Q': c3}, index=range(len(c3)))\n",
    "        new_c4 = pd.DataFrame(data={'Interference': I4, 'Att_Demand': AD4, 'Q': c4}, index=range(len(c4)))\n",
    "        \n",
    "        # Appending data to df\n",
    "        df = df.append(new_c1, ignore_index = True)\n",
    "        df = df.append(new_c2, ignore_index = True)\n",
    "        df = df.append(new_c3, ignore_index = True)\n",
    "        df = df.append(new_c4, ignore_index = True)\n",
    "        \n",
    "df.head(15) # shape (43200, 3)"
   ]
  },
  {
   "cell_type": "code",
   "execution_count": null,
   "metadata": {},
   "outputs": [],
   "source": [
    "# This code was used to filter values (not currently used)\n",
    "\n",
    "#mins_q = df[df.Q < 0.1]\n",
    "#mins_q\n",
    "\n",
    "#corrected_q = df[df.Q > 0.2]\n",
    "#corrected_q"
   ]
  },
  {
   "cell_type": "code",
   "execution_count": null,
   "metadata": {},
   "outputs": [],
   "source": [
    "# Visualizing data \n",
    "ax = sns.boxplot(x=\"Att_Demand\", y=\"Q\", hue=\"Interference\",\n",
    "                 data=corrected_q)"
   ]
  },
  {
   "cell_type": "markdown",
   "metadata": {},
   "source": [
    "##### Perform two-way ANOVA w/ interaction"
   ]
  },
  {
   "cell_type": "code",
   "execution_count": null,
   "metadata": {},
   "outputs": [],
   "source": [
    "model = ols('Q ~ C(Att_Demand) + C(Interference) + C(Att_Demand):C(Interference)', data=corrected_q).fit()\n",
    "sm.stats.anova_lm(model, typ=2)\n"
   ]
  },
  {
   "cell_type": "markdown",
   "metadata": {},
   "source": [
    "##### Perform two-way ANOVA without interaction"
   ]
  },
  {
   "cell_type": "code",
   "execution_count": null,
   "metadata": {},
   "outputs": [],
   "source": [
    "model = ols('Q ~ C(Att_Demand) + C(Interference)', data=corrected_q).fit()\n",
    "sm.stats.anova_lm(model, typ=2)\n"
   ]
  },
  {
   "cell_type": "markdown",
   "metadata": {},
   "source": [
    "### Examining Q for C1"
   ]
  },
  {
   "cell_type": "code",
   "execution_count": null,
   "metadata": {},
   "outputs": [],
   "source": [
    "\n",
    "s1_c1_q = np.load(\"DistractWM/sub-102/graph_metrics/q_cond1_space.npy\") \n",
    "s2_c1_q = np.load(\"DistractWM/sub-103/graph_metrics/q_cond1_space.npy\") \n",
    "s3_c1_q = np.load(\"DistractWM/sub-104/graph_metrics/q_cond1_space.npy\") \n",
    "s4_c1_q = np.load(\"DistractWM/sub-105/graph_metrics/q_cond1_space.npy\") \n",
    "s5_c1_q = np.load(\"DistractWM/sub-106/graph_metrics/q_cond1_space.npy\") \n",
    "s6_c1_q = np.load(\"DistractWM/sub-107/graph_metrics/q_cond1_space.npy\") \n",
    "s7_c1_q = np.load(\"DistractWM/sub-108/graph_metrics/q_cond1_space.npy\") \n",
    "s8_c1_q = np.load(\"DistractWM/sub-109/graph_metrics/q_cond1_space.npy\") \n",
    "s9_c1_q = np.load(\"DistractWM/sub-110/graph_metrics/q_cond1_space.npy\") \n",
    "s10_c1_q = np.load(\"DistractWM/sub-112/graph_metrics/q_cond1_space.npy\") \n",
    "\n",
    "s11_c1_q = np.load(\"DistractWM/sub-114/graph_metrics/q_cond1_space.npy\") \n",
    "s12_c1_q = np.load(\"DistractWM/sub-115/graph_metrics/q_cond1_space.npy\") \n",
    "s13_c1_q = np.load(\"DistractWM/sub-116/graph_metrics/q_cond1_space.npy\") \n",
    "s14_c1_q = np.load(\"DistractWM/sub-117/graph_metrics/q_cond1_space.npy\") \n",
    "s15_c1_q = np.load(\"DistractWM/sub-118/graph_metrics/q_cond1_space.npy\") \n",
    "s16_c1_q = np.load(\"DistractWM/sub-119/graph_metrics/q_cond1_space.npy\") \n",
    "s17_c1_q = np.load(\"DistractWM/sub-120/graph_metrics/q_cond1_space.npy\") \n",
    "s18_c1_q = np.load(\"DistractWM/sub-121/graph_metrics/q_cond1_space.npy\") \n",
    "s19_c1_q = np.load(\"DistractWM/sub-122/graph_metrics/q_cond1_space.npy\") \n",
    "s20_c1_q = np.load(\"DistractWM/sub-123/graph_metrics/q_cond1_space.npy\") \n",
    "\n",
    "s21_c1_q = np.load(\"DistractWM/sub-124/graph_metrics/q_cond1_space.npy\") \n",
    "s22_c1_q = np.load(\"DistractWM/sub-125/graph_metrics/q_cond1_space.npy\") \n",
    "s23_c1_q = np.load(\"DistractWM/sub-126/graph_metrics/q_cond1_space.npy\") \n",
    "s24_c1_q = np.load(\"DistractWM/sub-129/graph_metrics/q_cond1_space.npy\") \n",
    "s25_c1_q = np.load(\"DistractWM/sub-130/graph_metrics/q_cond1_space.npy\") \n",
    "s26_c1_q = np.load(\"DistractWM/sub-131/graph_metrics/q_cond1_space.npy\") \n",
    "s27_c1_q = np.load(\"DistractWM/sub-132/graph_metrics/q_cond1_space.npy\") \n",
    "\n",
    "c1_q = pd.DataFrame(data={\"Q1\": s1_c1_q, \"Q2\": s2_c1_q, \"Q3\": s3_c1_q, \"Q4\": s4_c1_q, \"Q5\": s5_c1_q,\n",
    "                         \"Q6\": s6_c1_q, \"Q7\": s7_c1_q, \"Q8\": s8_c1_q, \"Q9\": s9_c1_q, \"Q10\": s10_c1_q,\n",
    "                         \"Q11\": s6_c1_q, \"Q12\": s7_c1_q, \"Q13\": s8_c1_q, \"Q14\": s9_c1_q, \"Q15\": s10_c1_q,\n",
    "                         \"Q16\": s6_c1_q, \"Q17\": s7_c1_q, \"Q18\": s8_c1_q, \"Q19\": s9_c1_q, \"Q20\": s10_c1_q,\n",
    "                         \"Q21\": s6_c1_q, \"Q22\": s7_c1_q, \"Q23\": s8_c1_q, \"Q24\": s9_c1_q, \"Q25\": s10_c1_q,\n",
    "                         \"Q26\": s6_c1_q, \"Q27\": s7_c1_q}, index=range(len(s1_c1_q)))\n",
    "\n",
    "c1_q.to_csv('GitHub/Summer_2021_fMRI/All_Qs_C1.csv', sep='\\t')\n",
    "c1_q.head(15)"
   ]
  },
  {
   "cell_type": "markdown",
   "metadata": {},
   "source": [
    "### Examining Q for C2"
   ]
  },
  {
   "cell_type": "code",
   "execution_count": null,
   "metadata": {},
   "outputs": [],
   "source": [
    "s1_c2_q = np.load(\"DistractWM/sub-102/graph_metrics/q_cond2_space.npy\") \n",
    "s2_c2_q = np.load(\"DistractWM/sub-103/graph_metrics/q_cond2_space.npy\") \n",
    "s3_c2_q = np.load(\"DistractWM/sub-104/graph_metrics/q_cond2_space.npy\") \n",
    "s4_c2_q = np.load(\"DistractWM/sub-105/graph_metrics/q_cond2_space.npy\") \n",
    "s5_c2_q = np.load(\"DistractWM/sub-106/graph_metrics/q_cond2_space.npy\") \n",
    "s6_c2_q = np.load(\"DistractWM/sub-107/graph_metrics/q_cond2_space.npy\") \n",
    "s7_c2_q = np.load(\"DistractWM/sub-108/graph_metrics/q_cond2_space.npy\") \n",
    "s8_c2_q = np.load(\"DistractWM/sub-109/graph_metrics/q_cond2_space.npy\") \n",
    "s9_c2_q = np.load(\"DistractWM/sub-110/graph_metrics/q_cond2_space.npy\") \n",
    "s10_c2_q = np.load(\"DistractWM/sub-112/graph_metrics/q_cond2_space.npy\") \n",
    "\n",
    "s11_c2_q = np.load(\"DistractWM/sub-114/graph_metrics/q_cond2_space.npy\") \n",
    "s12_c2_q = np.load(\"DistractWM/sub-115/graph_metrics/q_cond2_space.npy\") \n",
    "s13_c2_q = np.load(\"DistractWM/sub-116/graph_metrics/q_cond2_space.npy\") \n",
    "s14_c2_q = np.load(\"DistractWM/sub-117/graph_metrics/q_cond2_space.npy\") \n",
    "s15_c2_q = np.load(\"DistractWM/sub-118/graph_metrics/q_cond2_space.npy\") \n",
    "s16_c2_q = np.load(\"DistractWM/sub-119/graph_metrics/q_cond2_space.npy\") \n",
    "s17_c2_q = np.load(\"DistractWM/sub-120/graph_metrics/q_cond2_space.npy\") \n",
    "s18_c2_q = np.load(\"DistractWM/sub-121/graph_metrics/q_cond2_space.npy\") \n",
    "s19_c2_q = np.load(\"DistractWM/sub-122/graph_metrics/q_cond2_space.npy\") \n",
    "s20_c2_q = np.load(\"DistractWM/sub-123/graph_metrics/q_cond2_space.npy\") \n",
    "\n",
    "s21_c2_q = np.load(\"DistractWM/sub-124/graph_metrics/q_cond2_space.npy\") \n",
    "s22_c2_q = np.load(\"DistractWM/sub-125/graph_metrics/q_cond2_space.npy\") \n",
    "s23_c2_q = np.load(\"DistractWM/sub-126/graph_metrics/q_cond2_space.npy\") \n",
    "s24_c2_q = np.load(\"DistractWM/sub-129/graph_metrics/q_cond2_space.npy\") \n",
    "s25_c2_q = np.load(\"DistractWM/sub-130/graph_metrics/q_cond2_space.npy\") \n",
    "s26_c2_q = np.load(\"DistractWM/sub-131/graph_metrics/q_cond2_space.npy\") \n",
    "s27_c2_q = np.load(\"DistractWM/sub-132/graph_metrics/q_cond2_space.npy\") \n",
    "\n",
    "c2_q = pd.DataFrame(data={\"Q1\": s1_c2_q, \"Q2\": s2_c2_q, \"Q3\": s3_c2_q, \"Q4\": s4_c2_q, \"Q5\": s5_c2_q,\n",
    "                         \"Q6\": s6_c2_q, \"Q7\": s7_c2_q, \"Q8\": s8_c2_q, \"Q9\": s9_c2_q, \"Q10\": s10_c2_q,\n",
    "                         \"Q11\": s6_c2_q, \"Q12\": s7_c2_q, \"Q13\": s8_c2_q, \"Q14\": s9_c2_q, \"Q15\": s10_c2_q,\n",
    "                         \"Q16\": s6_c2_q, \"Q17\": s7_c2_q, \"Q18\": s8_c2_q, \"Q19\": s9_c2_q, \"Q20\": s10_c2_q,\n",
    "                         \"Q21\": s6_c2_q, \"Q22\": s7_c2_q, \"Q23\": s8_c2_q, \"Q24\": s9_c2_q, \"Q25\": s10_c2_q,\n",
    "                         \"Q26\": s6_c2_q, \"Q27\": s7_c2_q}, index=range(len(s1_c1_q)))\n",
    "\n",
    "c2_q.to_csv('GitHub/Summer_2021_fMRI/All_Qs_C2.csv', sep='\\t')\n",
    "c2_q.head(15)"
   ]
  },
  {
   "cell_type": "markdown",
   "metadata": {},
   "source": [
    "### Examining Q for C3"
   ]
  },
  {
   "cell_type": "code",
   "execution_count": null,
   "metadata": {},
   "outputs": [],
   "source": [
    "s1_c3_q = np.load(\"DistractWM/sub-102/graph_metrics/q_cond3_space.npy\") \n",
    "s2_c3_q = np.load(\"DistractWM/sub-103/graph_metrics/q_cond3_space.npy\") \n",
    "s3_c3_q = np.load(\"DistractWM/sub-104/graph_metrics/q_cond3_space.npy\") \n",
    "s4_c3_q = np.load(\"DistractWM/sub-105/graph_metrics/q_cond3_space.npy\") \n",
    "s5_c3_q = np.load(\"DistractWM/sub-106/graph_metrics/q_cond3_space.npy\") \n",
    "s6_c3_q = np.load(\"DistractWM/sub-107/graph_metrics/q_cond3_space.npy\") \n",
    "s7_c3_q = np.load(\"DistractWM/sub-108/graph_metrics/q_cond3_space.npy\") \n",
    "s8_c3_q = np.load(\"DistractWM/sub-109/graph_metrics/q_cond3_space.npy\") \n",
    "s9_c3_q = np.load(\"DistractWM/sub-110/graph_metrics/q_cond3_space.npy\") \n",
    "s10_c3_q = np.load(\"DistractWM/sub-112/graph_metrics/q_cond3_space.npy\") \n",
    "\n",
    "s11_c3_q = np.load(\"DistractWM/sub-114/graph_metrics/q_cond3_space.npy\") \n",
    "s12_c3_q = np.load(\"DistractWM/sub-115/graph_metrics/q_cond3_space.npy\") \n",
    "s13_c3_q = np.load(\"DistractWM/sub-116/graph_metrics/q_cond3_space.npy\") \n",
    "s14_c3_q = np.load(\"DistractWM/sub-117/graph_metrics/q_cond3_space.npy\") \n",
    "s15_c3_q = np.load(\"DistractWM/sub-118/graph_metrics/q_cond3_space.npy\") \n",
    "s16_c3_q = np.load(\"DistractWM/sub-119/graph_metrics/q_cond3_space.npy\") \n",
    "s17_c3_q = np.load(\"DistractWM/sub-120/graph_metrics/q_cond3_space.npy\") \n",
    "s18_c3_q = np.load(\"DistractWM/sub-121/graph_metrics/q_cond3_space.npy\") \n",
    "s19_c3_q = np.load(\"DistractWM/sub-122/graph_metrics/q_cond3_space.npy\") \n",
    "s20_c3_q = np.load(\"DistractWM/sub-123/graph_metrics/q_cond3_space.npy\") \n",
    "\n",
    "s21_c3_q = np.load(\"DistractWM/sub-124/graph_metrics/q_cond3_space.npy\") \n",
    "s22_c3_q = np.load(\"DistractWM/sub-125/graph_metrics/q_cond3_space.npy\") \n",
    "s23_c3_q = np.load(\"DistractWM/sub-126/graph_metrics/q_cond3_space.npy\") \n",
    "s24_c3_q = np.load(\"DistractWM/sub-129/graph_metrics/q_cond3_space.npy\") \n",
    "s25_c3_q = np.load(\"DistractWM/sub-130/graph_metrics/q_cond3_space.npy\") \n",
    "s26_c3_q = np.load(\"DistractWM/sub-131/graph_metrics/q_cond3_space.npy\") \n",
    "s27_c3_q = np.load(\"DistractWM/sub-132/graph_metrics/q_cond3_space.npy\") \n",
    "\n",
    "c3_q = pd.DataFrame(data={\"Q1\": s1_c3_q, \"Q2\": s2_c3_q, \"Q3\": s3_c3_q, \"Q4\": s4_c3_q, \"Q5\": s5_c3_q,\n",
    "                         \"Q6\": s6_c3_q, \"Q7\": s7_c3_q, \"Q8\": s8_c3_q, \"Q9\": s9_c3_q, \"Q10\": s10_c3_q,\n",
    "                         \"Q11\": s6_c3_q, \"Q12\": s7_c3_q, \"Q13\": s8_c3_q, \"Q14\": s9_c3_q, \"Q15\": s10_c3_q,\n",
    "                         \"Q16\": s6_c3_q, \"Q17\": s7_c3_q, \"Q18\": s8_c3_q, \"Q19\": s9_c3_q, \"Q20\": s10_c3_q,\n",
    "                         \"Q21\": s6_c3_q, \"Q22\": s7_c3_q, \"Q23\": s8_c3_q, \"Q24\": s9_c3_q, \"Q25\": s10_c3_q,\n",
    "                         \"Q26\": s6_c3_q, \"Q27\": s7_c3_q}, index=range(len(s1_c1_q)))\n",
    "\n",
    "c3_q.to_csv('GitHub/Summer_2021_fMRI/All_Qs_C3.csv', sep='\\t')\n",
    "c3_q.head(15)"
   ]
  },
  {
   "cell_type": "markdown",
   "metadata": {},
   "source": [
    "### Examining Q for C4"
   ]
  },
  {
   "cell_type": "code",
   "execution_count": null,
   "metadata": {},
   "outputs": [],
   "source": [
    "s1_c4_q = np.load(\"DistractWM/sub-102/graph_metrics/q_cond4_space.npy\") \n",
    "s2_c4_q = np.load(\"DistractWM/sub-103/graph_metrics/q_cond4_space.npy\") \n",
    "s3_c4_q = np.load(\"DistractWM/sub-104/graph_metrics/q_cond4_space.npy\") \n",
    "s4_c4_q = np.load(\"DistractWM/sub-105/graph_metrics/q_cond4_space.npy\") \n",
    "s5_c4_q = np.load(\"DistractWM/sub-106/graph_metrics/q_cond4_space.npy\") \n",
    "s6_c4_q = np.load(\"DistractWM/sub-107/graph_metrics/q_cond4_space.npy\") \n",
    "s7_c4_q = np.load(\"DistractWM/sub-108/graph_metrics/q_cond4_space.npy\") \n",
    "s8_c4_q = np.load(\"DistractWM/sub-109/graph_metrics/q_cond4_space.npy\") \n",
    "s9_c4_q = np.load(\"DistractWM/sub-110/graph_metrics/q_cond4_space.npy\") \n",
    "s10_c4_q = np.load(\"DistractWM/sub-112/graph_metrics/q_cond4_space.npy\") \n",
    "\n",
    "s11_c4_q = np.load(\"DistractWM/sub-114/graph_metrics/q_cond4_space.npy\") \n",
    "s12_c4_q = np.load(\"DistractWM/sub-115/graph_metrics/q_cond4_space.npy\") \n",
    "s13_c4_q = np.load(\"DistractWM/sub-116/graph_metrics/q_cond4_space.npy\") \n",
    "s14_c4_q = np.load(\"DistractWM/sub-117/graph_metrics/q_cond4_space.npy\") \n",
    "s15_c4_q = np.load(\"DistractWM/sub-118/graph_metrics/q_cond4_space.npy\") \n",
    "s16_c4_q = np.load(\"DistractWM/sub-119/graph_metrics/q_cond4_space.npy\") \n",
    "s17_c4_q = np.load(\"DistractWM/sub-120/graph_metrics/q_cond4_space.npy\") \n",
    "s18_c4_q = np.load(\"DistractWM/sub-121/graph_metrics/q_cond4_space.npy\") \n",
    "s19_c4_q = np.load(\"DistractWM/sub-122/graph_metrics/q_cond4_space.npy\") \n",
    "s20_c4_q = np.load(\"DistractWM/sub-123/graph_metrics/q_cond4_space.npy\") \n",
    "\n",
    "s21_c4_q = np.load(\"DistractWM/sub-124/graph_metrics/q_cond4_space.npy\") \n",
    "s22_c4_q = np.load(\"DistractWM/sub-125/graph_metrics/q_cond4_space.npy\") \n",
    "s23_c4_q = np.load(\"DistractWM/sub-126/graph_metrics/q_cond4_space.npy\") \n",
    "s24_c4_q = np.load(\"DistractWM/sub-129/graph_metrics/q_cond4_space.npy\") \n",
    "s25_c4_q = np.load(\"DistractWM/sub-130/graph_metrics/q_cond4_space.npy\") \n",
    "s26_c4_q = np.load(\"DistractWM/sub-131/graph_metrics/q_cond4_space.npy\") \n",
    "s27_c4_q = np.load(\"DistractWM/sub-132/graph_metrics/q_cond4_space.npy\") \n",
    "\n",
    "c4_q = pd.DataFrame(data={\"Q1\": s1_c4_q, \"Q2\": s2_c4_q, \"Q3\": s3_c4_q, \"Q4\": s4_c4_q, \"Q5\": s5_c4_q,\n",
    "                         \"Q6\": s6_c4_q, \"Q7\": s7_c4_q, \"Q8\": s8_c4_q, \"Q9\": s9_c4_q, \"Q10\": s10_c4_q,\n",
    "                         \"Q11\": s6_c4_q, \"Q12\": s7_c4_q, \"Q13\": s8_c4_q, \"Q14\": s9_c4_q, \"Q15\": s10_c4_q,\n",
    "                         \"Q16\": s6_c4_q, \"Q17\": s7_c4_q, \"Q18\": s8_c4_q, \"Q19\": s9_c4_q, \"Q20\": s10_c4_q,\n",
    "                         \"Q21\": s6_c4_q, \"Q22\": s7_c4_q, \"Q23\": s8_c4_q, \"Q24\": s9_c4_q, \"Q25\": s10_c4_q,\n",
    "                         \"Q26\": s6_c4_q, \"Q27\": s7_c4_q}, index=range(len(s1_c1_q)))\n",
    "\n",
    "c4_q.to_csv('GitHub/Summer_2021_fMRI/All_Qs_C4.csv', sep='\\t')\n",
    "c4_q.head(15)"
   ]
  },
  {
   "cell_type": "code",
   "execution_count": null,
   "metadata": {},
   "outputs": [],
   "source": []
  },
  {
   "cell_type": "code",
   "execution_count": null,
   "metadata": {},
   "outputs": [],
   "source": []
  },
  {
   "cell_type": "code",
   "execution_count": null,
   "metadata": {},
   "outputs": [],
   "source": []
  },
  {
   "cell_type": "code",
   "execution_count": null,
   "metadata": {},
   "outputs": [],
   "source": []
  },
  {
   "cell_type": "code",
   "execution_count": null,
   "metadata": {},
   "outputs": [],
   "source": []
  },
  {
   "cell_type": "code",
   "execution_count": null,
   "metadata": {},
   "outputs": [],
   "source": []
  },
  {
   "cell_type": "code",
   "execution_count": null,
   "metadata": {},
   "outputs": [],
   "source": []
  },
  {
   "cell_type": "code",
   "execution_count": null,
   "metadata": {},
   "outputs": [],
   "source": []
  },
  {
   "cell_type": "code",
   "execution_count": null,
   "metadata": {},
   "outputs": [],
   "source": []
  },
  {
   "cell_type": "code",
   "execution_count": null,
   "metadata": {},
   "outputs": [],
   "source": []
  },
  {
   "cell_type": "code",
   "execution_count": null,
   "metadata": {},
   "outputs": [],
   "source": []
  },
  {
   "cell_type": "code",
   "execution_count": null,
   "metadata": {},
   "outputs": [],
   "source": []
  },
  {
   "cell_type": "code",
   "execution_count": null,
   "metadata": {},
   "outputs": [],
   "source": []
  },
  {
   "cell_type": "code",
   "execution_count": null,
   "metadata": {},
   "outputs": [],
   "source": []
  },
  {
   "cell_type": "code",
   "execution_count": null,
   "metadata": {},
   "outputs": [],
   "source": [
    "\"\"\"\n",
    "\n",
    "# Paths to access files\n",
    "home_dir = \"DistractWM/\"\n",
    "c1_path = \"/graph_metrics/q_cond1_space.npy\"\n",
    "c2_path = \"/graph_metrics/q_cond2_space.npy\"\n",
    "c3_path = \"/graph_metrics/q_cond3_space.npy\"\n",
    "c4_path = \"/graph_metrics/q_cond4_space.npy\"\n",
    "\n",
    "# ...\n",
    "idx = 31 #102-132, total 27 participants (missing 111, 113, 127 and 128)\n",
    "\n",
    "# Creat psudo-empty dataframe\n",
    "df = pd.DataFrame(columns=['C1', 'C2', 'C3', 'C4'])\n",
    "\n",
    "for x in range(idx): \n",
    "    \n",
    "    name = 'sub-'\n",
    "    num = 102 + x\n",
    "    \n",
    "    if(not((num == 111) or (num == 113) or (num == 127) or (num == 128))):\n",
    "        \n",
    "        name = name + str(num)\n",
    "        full_path1 = home_dir + name + c1_path\n",
    "        full_path2 = home_dir + name + c2_path\n",
    "        full_path3 = home_dir + name + c3_path\n",
    "        full_path4 = home_dir + name + c4_path\n",
    "        \n",
    "        # Loading data     \n",
    "        c1 = np.load(full_path1) \n",
    "        c2 = np.load(full_path2) \n",
    "        c3 = np.load(full_path3) \n",
    "        c4 = np.load(full_path4) \n",
    "        \n",
    "        new_cs = pd.DataFrame(data={'C1': c1, 'C2': c2, 'C3': c3, 'C4': c4,}, index=range(len(c1)))\n",
    "        \n",
    "        # Appending data to df\n",
    "        df = df.append(new_cs, ignore_index = True)\n",
    "        \n",
    "df.head(15) # shape (10800, 4)\n",
    "\"\"\""
   ]
  }
 ],
 "metadata": {
  "kernelspec": {
   "display_name": "Python 3",
   "language": "python",
   "name": "python3"
  },
  "language_info": {
   "codemirror_mode": {
    "name": "ipython",
    "version": 3
   },
   "file_extension": ".py",
   "mimetype": "text/x-python",
   "name": "python",
   "nbconvert_exporter": "python",
   "pygments_lexer": "ipython3",
   "version": "3.8.3"
  }
 },
 "nbformat": 4,
 "nbformat_minor": 4
}
