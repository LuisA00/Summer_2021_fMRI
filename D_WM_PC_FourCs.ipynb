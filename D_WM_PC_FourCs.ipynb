{
 "cells": [
  {
   "cell_type": "code",
   "execution_count": 1,
   "id": "6ac2cb51",
   "metadata": {},
   "outputs": [],
   "source": [
    "#import matplotlib\n",
    "#matplotlib.use(\"Qt5Agg\")"
   ]
  },
  {
   "cell_type": "code",
   "execution_count": 2,
   "id": "0eb31626",
   "metadata": {},
   "outputs": [
    {
     "name": "stderr",
     "output_type": "stream",
     "text": [
      "/Users/RaulAlvarez/opt/anaconda3/envs/py36/lib/python3.8/site-packages/nilearn/datasets/__init__.py:86: FutureWarning: Fetchers from the nilearn.datasets module will be updated in version 0.9 to return python strings instead of bytes and Pandas dataframes instead of Numpy arrays.\n",
      "  warn(\"Fetchers from the nilearn.datasets module will be \"\n"
     ]
    }
   ],
   "source": [
    "import numpy as np\n",
    "import pandas as pd\n",
    "\n",
    "from visbrain.gui import Brain\n",
    "from visbrain.objects import SourceObj, BrainObj, ColorbarObj, SceneObj\n",
    "from visbrain.io import download_file, read_stc\n",
    "\n",
    "import nilearn\n",
    "from nilearn import datasets\n",
    "from nilearn.image import concat_imgs, mean_img\n",
    "from nilearn import plotting"
   ]
  },
  {
   "cell_type": "markdown",
   "id": "39671500",
   "metadata": {},
   "source": [
    "## Get PC scores from all conditions"
   ]
  },
  {
   "cell_type": "code",
   "execution_count": 3,
   "id": "1fa0111f",
   "metadata": {},
   "outputs": [
    {
     "name": "stdout",
     "output_type": "stream",
     "text": [
      "Shape of data for C1: (400,)\n",
      "Shape of data for C2: (400,)\n",
      "Shape of data for C3: (400,)\n",
      "Shape of data for C4: (400,)\n"
     ]
    }
   ],
   "source": [
    "# Get pc scores for C1 \n",
    "pc_c1_path = \"DistractWM/sub-102/graph_metrics/pc_cond1_space.npy\"\n",
    "pc_c1 = np.load(pc_c1_path)\n",
    "\n",
    "# Get mean value\n",
    "pc_c1 = np.mean(pc_c1, axis=0)\n",
    "print(\"Shape of data for C1: \" + str(pc_c1.shape))\n",
    "\n",
    "# Get pc scores for C2 \n",
    "pc_c2_path = \"DistractWM/sub-102/graph_metrics/pc_cond2_space.npy\"\n",
    "pc_c2 = np.load(pc_c2_path)\n",
    "\n",
    "# Get mean value\n",
    "pc_c2 = np.mean(pc_c2, axis=0)\n",
    "print(\"Shape of data for C2: \" + str(pc_c2.shape))\n",
    "\n",
    "# Get pc scores for C3 \n",
    "pc_c3_path = \"DistractWM/sub-102/graph_metrics/pc_cond3_space.npy\"\n",
    "pc_c3 = np.load(pc_c3_path)\n",
    "\n",
    "# Get mean value\n",
    "pc_c3 = np.mean(pc_c3, axis=0)\n",
    "print(\"Shape of data for C3: \" + str(pc_c3.shape))\n",
    "\n",
    "# Get pc scores for C4 \n",
    "pc_c4_path = \"DistractWM/sub-102/graph_metrics/pc_cond4_space.npy\"\n",
    "pc_c4 = np.load(pc_c4_path)\n",
    "\n",
    "# Get mean value\n",
    "pc_c4 = np.mean(pc_c4, axis=0)\n",
    "print(\"Shape of data for C4: \" + str(pc_c4.shape))"
   ]
  },
  {
   "cell_type": "markdown",
   "id": "013cb50a",
   "metadata": {},
   "source": [
    "## Get coordinates from each node"
   ]
  },
  {
   "cell_type": "code",
   "execution_count": 4,
   "id": "b46a85d1",
   "metadata": {},
   "outputs": [
    {
     "name": "stdout",
     "output_type": "stream",
     "text": [
      "coordinates shape: (400, 3)\n"
     ]
    }
   ],
   "source": [
    "# Get Schatlas info\n",
    "# Get parcellation atlas from nilearn\n",
    "atlas_file = datasets.fetch_atlas_schaefer_2018(n_rois=400, yeo_networks=17, resolution_mm=2)\n",
    "\n",
    "# Visualize parcellation atlas\n",
    "atlas_maps = atlas_file.maps\n",
    "\n",
    "# Get coordinates and labels\n",
    "coordinates = plotting.find_parcellation_cut_coords(labels_img=atlas_maps, return_label_names=False)\n",
    "print(\"coordinates shape: \" + str(coordinates.shape))"
   ]
  },
  {
   "cell_type": "markdown",
   "id": "f31c36c7",
   "metadata": {},
   "source": [
    "## Create Scene object"
   ]
  },
  {
   "cell_type": "code",
   "execution_count": null,
   "id": "97393fe9",
   "metadata": {},
   "outputs": [
    {
     "name": "stderr",
     "output_type": "stream",
     "text": [
      "Creation of a scene\n"
     ]
    }
   ],
   "source": [
    "# Scene creation\n",
    "sc = SceneObj(bgcolor='black', size=(1400, 1000))\n",
    "\n",
    "# Default parameters for 'title'\n",
    "KW = dict(title_size=14., zoom=1.2)"
   ]
  },
  {
   "cell_type": "markdown",
   "id": "93bdba44",
   "metadata": {},
   "source": [
    "## C1 Brain plot"
   ]
  },
  {
   "cell_type": "code",
   "execution_count": null,
   "id": "4f89a043",
   "metadata": {},
   "outputs": [],
   "source": [
    "# ... \n",
    "kwargs = {}\n",
    "\n",
    "# <Find out the meaning of 'alpha'>\n",
    "kwargs['alpha'] = 0.7\n",
    "\n",
    "# Add C1 data\n",
    "kwargs['data'] = pc_c1\n",
    "\n",
    "# Set the form and size of nodes\n",
    "kwargs['symbol'] = 'o' \n",
    "kwargs['radius_min'] = 5 #2               \n",
    "kwargs['radius_max'] = 5 #10\n",
    " \n",
    "# Create 'source object'     \n",
    "s_obj_c1 = SourceObj('SourceExample', coordinates, **kwargs)\n",
    "\n",
    "# Add color to nodes\n",
    "s_obj_c1.color_sources(data=kwargs['data'], cmap='viridis')\n",
    "\n",
    "# Create 'Brain object'\n",
    "b_obj_c1 = BrainObj('B1', translucent=True)\n",
    "\n",
    "#b_obj_c1.project_sources(s_obj_c1, cmap='viridis', vmin=0, vmax=1, clim=(0, 1))\n",
    "\n",
    "#b_obj_c1.project_sources(s_obj_c1, cmap='viridis', vmin=0, vmax=1, clim=(0, 1))\n",
    "\n",
    "sc.add_to_subplot(s_obj_c1, row=0, col=0, row_span=1, title='PC C1', **KW) # row_span=1,\n",
    "sc.add_to_subplot(b_obj_c1, row=0, col=0, row_span=1, rotate='left', use_this_cam=True) \n",
    "\n",
    "#sc.add_to_subplot(s_obj, row=0, col=2, title='Project iEEG data', **KW)\n",
    "#sc.add_to_subplot(b_obj_proj, row=0, col=2, rotate='left', use_this_cam=True)"
   ]
  },
  {
   "cell_type": "code",
   "execution_count": null,
   "id": "e77d4897",
   "metadata": {},
   "outputs": [],
   "source": []
  },
  {
   "cell_type": "markdown",
   "id": "a1ccf6b7",
   "metadata": {},
   "source": [
    "## C2 Brain plot"
   ]
  },
  {
   "cell_type": "code",
   "execution_count": null,
   "id": "ba8a21f2",
   "metadata": {},
   "outputs": [],
   "source": [
    "# ... \n",
    "kwargs = {}\n",
    "\n",
    "# <Find out the meaning of 'alpha'>\n",
    "kwargs['alpha'] = 0.7\n",
    "\n",
    "# Add C1 data\n",
    "kwargs['data'] = pc_c2\n",
    "\n",
    "# Set the form and size of nodes\n",
    "kwargs['symbol'] = 'o' \n",
    "kwargs['radius_min'] = 5 #2               \n",
    "kwargs['radius_max'] = 5 #10\n",
    " \n",
    "# Create 'source object'     \n",
    "s_obj_c2 = SourceObj('SourceExample', coordinates, **kwargs)\n",
    "\n",
    "# Add color to nodes\n",
    "s_obj_c2.color_sources(data=kwargs['data'], cmap='viridis')\n",
    "\n",
    "# Create 'Brain object'\n",
    "b_obj_c2 = BrainObj('B1', translucent=True)\n",
    "#b_obj_c2.project_sources(s_obj_c2, cmap='viridis', vmin=0, vmax=1, clim=(0, 1))\n",
    "\n",
    "sc.add_to_subplot(s_obj_c2, row=0, col=1, row_span=1, title='PC C2', **KW)\n",
    "sc.add_to_subplot(b_obj_c2, row=0, col=1, row_span=1, rotate='left', use_this_cam=True) "
   ]
  },
  {
   "cell_type": "code",
   "execution_count": null,
   "id": "679035ba",
   "metadata": {},
   "outputs": [],
   "source": []
  },
  {
   "cell_type": "markdown",
   "id": "411101b9",
   "metadata": {},
   "source": [
    "## C3 Brain plot"
   ]
  },
  {
   "cell_type": "code",
   "execution_count": null,
   "id": "1a715c1a",
   "metadata": {},
   "outputs": [],
   "source": [
    "# ... \n",
    "kwargs = {}\n",
    "\n",
    "# <Find out the meaning of 'alpha'>\n",
    "kwargs['alpha'] = 0.7\n",
    "\n",
    "# Add C1 data\n",
    "kwargs['data'] = pc_c3\n",
    "\n",
    "# Set the form and size of nodes\n",
    "kwargs['symbol'] = 'o' \n",
    "kwargs['radius_min'] = 5 #2               \n",
    "kwargs['radius_max'] = 5 #10\n",
    " \n",
    "# Create 'source object'     \n",
    "s_obj_c3 = SourceObj('SourceExample', coordinates, **kwargs)\n",
    "\n",
    "# Add color to nodes\n",
    "s_obj_c3.color_sources(data=kwargs['data'], cmap='viridis')\n",
    "\n",
    "# Create 'Brain object'\n",
    "b_obj_c3 = BrainObj('B1', translucent=True)\n",
    "#b_obj_c3.project_sources(s_obj_c3, cmap='viridis', vmin=0, vmax=1, clim=(0, 1))\n",
    "\n",
    "sc.add_to_subplot(s_obj_c3, row=1, col=0, row_span=1, title='PC C3', **KW)\n",
    "sc.add_to_subplot(b_obj_c3, row=1, col=0, row_span=1, rotate='left', use_this_cam=True) "
   ]
  },
  {
   "cell_type": "code",
   "execution_count": null,
   "id": "4c30bcdb",
   "metadata": {},
   "outputs": [],
   "source": []
  },
  {
   "cell_type": "markdown",
   "id": "87cf1807",
   "metadata": {},
   "source": [
    "## C4 Brain plot"
   ]
  },
  {
   "cell_type": "code",
   "execution_count": null,
   "id": "49acae8c",
   "metadata": {},
   "outputs": [],
   "source": [
    "# ... \n",
    "kwargs = {}\n",
    "\n",
    "# <Find out the meaning of 'alpha'>\n",
    "kwargs['alpha'] = 0.7\n",
    "\n",
    "# Add C1 data\n",
    "kwargs['data'] = pc_c4\n",
    "\n",
    "# Set the form and size of nodes\n",
    "kwargs['symbol'] = 'o' \n",
    "kwargs['radius_min'] = 5 #2               \n",
    "kwargs['radius_max'] = 5 #10\n",
    " \n",
    "# Create 'source object'     \n",
    "s_obj_c4 = SourceObj('SourceExample', coordinates, **kwargs)\n",
    "\n",
    "# Add color to nodes\n",
    "s_obj_c4.color_sources(data=kwargs['data'], cmap='viridis')\n",
    "\n",
    "# Create 'Brain object'\n",
    "b_obj_c4 = BrainObj('B1', translucent=True)\n",
    "#b_obj_c4.project_sources(s_obj_c4, cmap='viridis', vmin=0, vmax=1, clim=(0, 1))\n",
    "\n",
    "sc.add_to_subplot(s_obj_c4, row=1, col=1, row_span=1, title='PC C4', **KW)\n",
    "sc.add_to_subplot(b_obj_c4, row=1, col=1, row_span=1, rotate='left', use_this_cam=True) "
   ]
  },
  {
   "cell_type": "code",
   "execution_count": null,
   "id": "a0fa5968",
   "metadata": {},
   "outputs": [],
   "source": [
    "sc.preview()"
   ]
  },
  {
   "cell_type": "code",
   "execution_count": null,
   "id": "faceae55",
   "metadata": {},
   "outputs": [],
   "source": []
  },
  {
   "cell_type": "code",
   "execution_count": null,
   "id": "f9578bd5",
   "metadata": {},
   "outputs": [],
   "source": []
  },
  {
   "cell_type": "code",
   "execution_count": null,
   "id": "afbb7285",
   "metadata": {},
   "outputs": [],
   "source": []
  },
  {
   "cell_type": "code",
   "execution_count": null,
   "id": "c05ed34c",
   "metadata": {},
   "outputs": [],
   "source": []
  },
  {
   "cell_type": "code",
   "execution_count": null,
   "id": "2e6b0d8f",
   "metadata": {},
   "outputs": [],
   "source": []
  },
  {
   "cell_type": "code",
   "execution_count": null,
   "id": "b00570b6",
   "metadata": {},
   "outputs": [],
   "source": []
  },
  {
   "cell_type": "code",
   "execution_count": null,
   "id": "7bf3317e",
   "metadata": {},
   "outputs": [],
   "source": []
  }
 ],
 "metadata": {
  "kernelspec": {
   "display_name": "Python 3",
   "language": "python",
   "name": "python3"
  },
  "language_info": {
   "codemirror_mode": {
    "name": "ipython",
    "version": 3
   },
   "file_extension": ".py",
   "mimetype": "text/x-python",
   "name": "python",
   "nbconvert_exporter": "python",
   "pygments_lexer": "ipython3",
   "version": "3.8.5"
  }
 },
 "nbformat": 4,
 "nbformat_minor": 5
}
